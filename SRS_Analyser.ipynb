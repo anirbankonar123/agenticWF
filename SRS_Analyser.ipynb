{
 "cells": [
  {
   "cell_type": "markdown",
   "metadata": {},
   "source": [
    "#### This notebook extracts Requirements from SRS document and converts these to User stories, uses 2m context window of Google Gemini 1.5-Pro effectively ####"
   ]
  },
  {
   "cell_type": "code",
   "execution_count": 1,
   "metadata": {},
   "outputs": [],
   "source": [
    "import google.generativeai as genai\n",
    "from langchain_community.document_loaders import PyPDFLoader\n",
    "import json\n",
    "from IPython.display import Markdown, display"
   ]
  },
  {
   "cell_type": "code",
   "execution_count": 2,
   "metadata": {},
   "outputs": [
    {
     "name": "stdout",
     "output_type": "stream",
     "text": [
      "281\n"
     ]
    }
   ],
   "source": [
    "#Extract contents of PDF file into text\n",
    "fileName = \"data/IFB-CO-15079-IAS_Final-PART-2.pdf\"\n",
    "loader = PyPDFLoader(fileName)\n",
    "\n",
    "pages = loader.load_and_split()\n",
    "\n",
    "print(len(pages))\n",
    "text = \"\"\n",
    "for page in pages:\n",
    "    text+=page.page_content"
   ]
  },
  {
   "cell_type": "code",
   "execution_count": 4,
   "metadata": {},
   "outputs": [
    {
     "data": {
      "text/markdown": [
       "<b>\n",
       "[\n",
       "  \"IKM-SRS-1\",\n",
       "  \"IKM-SRS-2\",\n",
       "  \"IKM-SRS-2b\",\n",
       "  \"IKM-SRS-3\",\n",
       "  \"IKM-SRS-4\",\n",
       "  \"IKM-SRS-39\",\n",
       "  \"IKM-SRS-39b\",\n",
       "  \"IKM-SRS-40\",\n",
       "  \"IKM-SRS-41\",\n",
       "  \"IKM-SRS-42\",\n",
       "  \"IKM-SRS-43\",\n",
       "  \"IKM-SRS-44\",\n",
       "  \"IKM-SRS-45\",\n",
       "  \"IKM-SRS-46\",\n",
       "  \"IKM-SRS-47\",\n",
       "  \"IKM-SRS-48\",\n",
       "  \"IKM-SRS-49\",\n",
       "  \"IKM-SRS-50\",\n",
       "  \"IKM-SRS-51\",\n",
       "  \"IKM-SRS-52\",\n",
       "  \"NIP-1\",\n",
       "  \"NIP-2\",\n",
       "  \"NIP-3\",\n",
       "  \"NIP-4\",\n",
       "  \"NIP-5\",\n",
       "  \"NIP-6\",\n",
       "  \"EDMS-4\",\n",
       "  \"EDMS-5\",\n",
       "  \"EDMS-6\",\n",
       "  \"TTP-20\"\n",
       "]</b>"
      ],
      "text/plain": [
       "<IPython.core.display.Markdown object>"
      ]
     },
     "metadata": {},
     "output_type": "display_data"
    }
   ],
   "source": [
    "#Prompt to get Requirement IDs from a requirement topic\n",
    "def make_prompt_Reqmnt_ID_List(reqmnt, context):\n",
    "  prompt = (\"\"\"You are an expert Requirement Analyst who can find out relevant Requirement IDs from \n",
    "  the Requirement topic given, using text from the context included below. \\\n",
    "  Extract the Requirement IDs for this given Requirement topic.\\\n",
    "  Return the information in JSON structure with an array of Requirement IDs.\\\n",
    "  Do not add any Table of Content item number strictly or any section header number. ONLY inlcude Requirment IDs.\n",
    "  Generate the output in a strictly valid json format.\\\n",
    "  Requirement topic : '{reqmnt}'\n",
    "  Context: '{context}'\n",
    "\n",
    "  ANSWER:\n",
    "  \"\"\").format(reqmnt=reqmnt,context=context)\n",
    "\n",
    "  return prompt\n",
    "\n",
    "#Initialize Gemini model\n",
    "genai.configure()\n",
    "model = genai.GenerativeModel('gemini-1.5-pro')\n",
    "context = text\n",
    "\n",
    "temperature=1.0\n",
    "top_p=1.0\n",
    "\n",
    "reqmnt=\"Search\"\n",
    "\n",
    "prompt = make_prompt_Reqmnt_ID_List(reqmnt, context)\n",
    "response = model.generate_content(prompt,\n",
    "    generation_config=genai.types.GenerationConfig(\n",
    "        temperature=float(temperature),\n",
    "        top_p=float(top_p)))\n",
    "\n",
    "display(Markdown(f\"<b>{response.text[7:-4]}</b>\"))"
   ]
  },
  {
   "cell_type": "code",
   "execution_count": 5,
   "metadata": {},
   "outputs": [],
   "source": [
    "json_list = []\n",
    "json_list.append(json.loads(response.text[7:-4]))"
   ]
  },
  {
   "cell_type": "code",
   "execution_count": 6,
   "metadata": {},
   "outputs": [
    {
     "name": "stdout",
     "output_type": "stream",
     "text": [
      "IKM-SRS-1\n",
      "IKM-SRS-2\n",
      "IKM-SRS-2b\n",
      "IKM-SRS-3\n",
      "IKM-SRS-4\n",
      "IKM-SRS-39\n",
      "IKM-SRS-39b\n",
      "IKM-SRS-40\n",
      "IKM-SRS-41\n",
      "IKM-SRS-42\n",
      "IKM-SRS-43\n",
      "IKM-SRS-44\n",
      "IKM-SRS-45\n",
      "IKM-SRS-46\n",
      "IKM-SRS-47\n",
      "IKM-SRS-48\n",
      "IKM-SRS-49\n",
      "IKM-SRS-50\n",
      "IKM-SRS-51\n",
      "IKM-SRS-52\n",
      "NIP-1\n",
      "NIP-2\n",
      "NIP-3\n",
      "NIP-4\n",
      "NIP-5\n",
      "NIP-6\n",
      "EDMS-4\n",
      "EDMS-5\n",
      "EDMS-6\n",
      "TTP-20\n"
     ]
    }
   ],
   "source": [
    "for items in json_list[0]:\n",
    "    print(items)"
   ]
  },
  {
   "cell_type": "code",
   "execution_count": 16,
   "metadata": {},
   "outputs": [],
   "source": [
    "#Prompt to generate User Story from a Requirement ID\n",
    "def make_prompt_Reqmnt_ID_to_User_Story(reqmnt_ID, context):\n",
    "  prompt = (\"\"\"You are an expert Requirement Analyst who can convert Requirement IDs into User Stories\n",
    "  using text from the context included below. \\\n",
    "  Extract the User Story with Description and Acceptance Criteria for this Requirement ID only.\\\n",
    "  Return the information in JSON structure .\\\n",
    "  Generate the output in a strictly valid json format.\\\n",
    "  Requirement ID : '{reqmnt_ID}'\n",
    "  Context: '{context}'\n",
    "\n",
    "  ANSWER:\n",
    "  \"\"\").format(reqmnt_ID=reqmnt_ID,context=context)\n",
    "\n",
    "  return prompt\n",
    "\n",
    "#Initialize Gemini model\n",
    "genai.configure()\n",
    "model = genai.GenerativeModel('gemini-1.5-pro')\n",
    "context = text\n",
    "\n",
    "temperature=1.0\n",
    "top_p=1.0\n",
    "\n",
    "reqmnt_ID=\"IKM-SRS-49\"\n",
    "\n",
    "prompt = make_prompt_Reqmnt_ID_to_User_Story(reqmnt_ID, context)\n",
    "response = model.generate_content(prompt,\n",
    "    generation_config=genai.types.GenerationConfig(\n",
    "        temperature=float(temperature),\n",
    "        top_p=float(top_p)))\n"
   ]
  },
  {
   "cell_type": "code",
   "execution_count": 17,
   "metadata": {},
   "outputs": [
    {
     "data": {
      "text/markdown": [
       "<b>\n",
       "{\n",
       "  \"Requirement ID\": \"IKM-SRS-49\",\n",
       "  \"User Story\": \"As an IKM Tools user, I want an Enterprise Directory workspace so that I can list, search, and browse users in the Enterprise.\",\n",
       "  \"Description\": \"The IKM Tools should provide an Enterprise Directory workspace to improve user discoverability and management within the NATO Enterprise. This workspace should offer functionalities to list all users in the Enterprise, enabling browsing through them with configurable views.  The primary goal is to provide a centralized location for users to easily find and access information about other users in the Enterprise.\",\n",
       "  \"Acceptance Criteria\": [\n",
       "    \"A dedicated Enterprise Directory workspace exists within the IKM Tools.\",\n",
       "    \"The workspace lists users in the Enterprise.\",\n",
       "    \"The workspace allows browsing users with configurable views.\",\n",
       "    \"The workspace can be accessed by any authorized IKM tools user.\"\n",
       "  ]\n",
       "}</b>"
      ],
      "text/plain": [
       "<IPython.core.display.Markdown object>"
      ]
     },
     "metadata": {},
     "output_type": "display_data"
    }
   ],
   "source": [
    "display(Markdown(f\"<b>{response.text[7:-4]}</b>\"))"
   ]
  },
  {
   "cell_type": "code",
   "execution_count": 18,
   "metadata": {},
   "outputs": [
    {
     "data": {
      "text/markdown": [
       "<b>\n",
       "{\n",
       "  \"Requirement ID\": \"NIP-1\",\n",
       "  \"User Story\": \"As a system administrator, I want to have an independent External Search Service so that failures in other services do not impact search functionality and vice versa.\",\n",
       "  \"Description\": \"An External Search Service, separate from the NIP/EDMS/TT+ environment, needs to be implemented. This will ensure that the search functionality remains operational even if other services experience failures, and that issues with the search service do not negatively impact other system components.\",\n",
       "  \"Acceptance Criteria\": [\n",
       "    \"The External Search Service is deployed and functions independently of the NIP/EDMS/TT+ application environment.\",\n",
       "    \"Failures within the NIP/EDMS/TT+ environment do not cause service interruption or performance degradation to the External Search Service. \",\n",
       "    \"Failures or performance issues within the External Search Service do not service interruption or performance degradation to the NIP/EDMS/TT+ environment.\"\n",
       "  ]\n",
       "}</b>"
      ],
      "text/plain": [
       "<IPython.core.display.Markdown object>"
      ]
     },
     "metadata": {},
     "output_type": "display_data"
    }
   ],
   "source": [
    "reqmnt_ID=\"NIP-1\"\n",
    "\n",
    "prompt = make_prompt_Reqmnt_ID_to_User_Story(reqmnt_ID, context)\n",
    "response = model.generate_content(prompt,\n",
    "    generation_config=genai.types.GenerationConfig(\n",
    "        temperature=float(temperature),\n",
    "        top_p=float(top_p)))\n",
    "display(Markdown(f\"<b>{response.text[7:-4]}</b>\"))"
   ]
  },
  {
   "cell_type": "code",
   "execution_count": 30,
   "metadata": {},
   "outputs": [
    {
     "data": {
      "text/markdown": [
       "<b>a summary of the 'Search' requirement in a bulleted format, based on the provided text:\n",
       "\n",
       "**General Search Requirements:**\n",
       "\n",
       "*   Leverage existing ITM search capabilities if present, reusing and extending services as needed.\n",
       "*   Easily incorporate new information sources and extend the search index.\n",
       "*   Use out-of-the-box SharePoint functions to ensure compliance with industry and NATO standards.\n",
       "*   Provide means for users to discover information products they have access to.\n",
       "*   Provide means for users to retrieve information products they have access to.\n",
       "*   Aggregate search results by normalizing, de-duplicating, and scoring by relevance.\n",
       "*   Provide sorting capabilities for search results.\n",
       "*   Allow users to specify search options, parameters, and filters (e.g., Command, Office, Keywords, Topics, Author, Date, Information Type, number of likes).\n",
       "*   Allow faceted search refinement based on metadata fields (e.g., topic, originating office, author, TT number, command, date, keyword, area, sub-area).\n",
       "*   Support searching physical media based on metadata.\n",
       "\n",
       "**Search Integration with SOA and IdM:**\n",
       "\n",
       "*   Utilize natural language processing for aggregating information from the SOA and IdM Information Search Service.\n",
       "\n",
       "**Enterprise Directory Search:**\n",
       "\n",
       "*   Provide an Enterprise Directory workspace to list, search, and browse users.\n",
       "*   Enable user search by name, nationality, location, organizational unit, and keywords.\n",
       "*   Display user details (picture, name, organizational unit, location, nationality, job title) with filtering and sorting options.\n",
       "\n",
       "**Specific Search Requirements for IKM Tools:**\n",
       "\n",
       "*   Upgrade the IKM Tools Search service as a separate component (dedicated SharePoint farm) for fault isolation.\n",
       "*   Handle a large search volume (at least 18 million items in ON, 7 million in PBN) within defined performance parameters (KPIs).\n",
       "\n",
       "**Specific Search Requirements for EDMS:**\n",
       "\n",
       "*   Leverage the Enterprise Search capabilities implemented in NIP Run-Time.\n",
       "*   Categorize search results by domains (Enterprise, Command, Office, Document Type, TT+).\n",
       "*   Extend search scope to include TT+ information.\n",
       "\n",
       "**Specific Search Requirements for NIP:**\n",
       "\n",
       "*   Provide an External Search Service independent from the NIP/EDMS/TT+ environment.\n",
       "*   Allow NIP/EDMS/TT+ to be indexed by this external SharePoint-based search service while preserving NIP access permissions.\n",
       "*   Use SharePoint permission trimming for security.\n",
       "*   Provide filters (e.g., Originating Office, Type, Command, Author).\n",
       "*   Implement faceted search with tabs (Articles, Events, Individuals, Exercises, Countries, Visits, Operations, Everything).\n",
       "\n",
       "**Specific Search Requirements for TT+:**\n",
       "\n",
       "* No specific requirements mentioned beyond inheriting IKM Tools' general search requirements. Addressed in section 3.5.3.</b>"
      ],
      "text/plain": [
       "<IPython.core.display.Markdown object>"
      ]
     },
     "metadata": {},
     "output_type": "display_data"
    }
   ],
   "source": [
    "#Prompt to generate Summary from a Requirement\n",
    "def make_prompt_Summarize_Reqmnt(reqmnt, context):\n",
    "  prompt = (\"\"\"You are an expert Requirement Analyst who can summarize Requirement\n",
    "  using text from the context included below. \\\n",
    "  Generate the summary for this Requirement only using Bulleted points.\\\n",
    "  \n",
    "  Requirement : '{reqmnt}'\n",
    "  Context: '{context}'\n",
    "\n",
    "  ANSWER:\n",
    "  \"\"\").format(reqmnt=reqmnt,context=context)\n",
    "\n",
    "  return prompt\n",
    "\n",
    "reqmnt=\"Search\"\n",
    "\n",
    "prompt = make_prompt_Summarize_Reqmnt(reqmnt, context)\n",
    "\n",
    "response = model.generate_content(prompt,\n",
    "    generation_config=genai.types.GenerationConfig(\n",
    "        temperature=float(temperature),\n",
    "        top_p=float(top_p)))\n",
    "\n",
    "display(Markdown(f\"<b>{response.text[7:-4]}</b>\"))"
   ]
  },
  {
   "cell_type": "code",
   "execution_count": null,
   "metadata": {},
   "outputs": [],
   "source": []
  }
 ],
 "metadata": {
  "kernelspec": {
   "display_name": "crewai",
   "language": "python",
   "name": "crewai"
  },
  "language_info": {
   "codemirror_mode": {
    "name": "ipython",
    "version": 3
   },
   "file_extension": ".py",
   "mimetype": "text/x-python",
   "name": "python",
   "nbconvert_exporter": "python",
   "pygments_lexer": "ipython3",
   "version": "3.10.0"
  }
 },
 "nbformat": 4,
 "nbformat_minor": 4
}
